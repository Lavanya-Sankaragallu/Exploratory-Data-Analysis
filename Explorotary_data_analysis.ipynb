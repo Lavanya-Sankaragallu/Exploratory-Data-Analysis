{
  "nbformat": 4,
  "nbformat_minor": 0,
  "metadata": {
    "colab": {
      "name": "Explorotary_data_analysis.ipynb",
      "provenance": [],
      "collapsed_sections": [],
      "mount_file_id": "13KKYBVBw33x7ZSkzmEu-3EoOG8_DYmAG",
      "authorship_tag": "ABX9TyPFdHjDhkEmXgp82PyibOir",
      "include_colab_link": true
    },
    "kernelspec": {
      "name": "python3",
      "display_name": "Python 3"
    }
  },
  "cells": [
    {
      "cell_type": "markdown",
      "metadata": {
        "id": "view-in-github",
        "colab_type": "text"
      },
      "source": [
        "<a href=\"https://colab.research.google.com/github/Lavanya-Sankaragallu/Exploratory-Data-Analysis/blob/master/Explorotary_data_analysis.ipynb\" target=\"_parent\"><img src=\"https://colab.research.google.com/assets/colab-badge.svg\" alt=\"Open In Colab\"/></a>"
      ]
    },
    {
      "cell_type": "markdown",
      "metadata": {
        "id": "fGOmA0FpQj9C",
        "colab_type": "text"
      },
      "source": [
        "                          INTRENSHIP INDUSTRIAL  PROJECT\n",
        "                                          \n",
        "                PROJECT TITLE:Exploratory Data Analysis of Car Feature\n",
        "                \n",
        "\n",
        "\n",
        "  Objective : The objective of the project is to do data pre-processing and exploratory data analysis of the dataset \n",
        "\n",
        "  Data Description: \n",
        "   \n",
        "   Make-----------Car Make \n",
        "\n",
        "   Model----------Car Model \n",
        "\n",
        "   Year----------Car Year (Marketing) \n",
        "\n",
        "   Engine Fuel Type---------Engine Fuel Type \n",
        "\n",
        "   Engine HP----------Engine HorsePower (HP) \n",
        "\n",
        "   Engine Cylinders---------Engine Cylinders  \n",
        "\n",
        "   Transmission Type--------Transmission Type\n",
        "    \n",
        "   Driven_Wheels-----------Driven Wheels\n",
        "     \n",
        "   Number of Doors---------Number of Doors\n",
        "     \n",
        "   Market Category---------Market Category\n",
        "     \n",
        "   Vehicle Size------------Size of Vehicle\n",
        "     \n",
        "   Vehicle Style-----------Type of Vehicle \n",
        "\n",
        "   highway MPG-------------Highway MPG \n",
        "\n",
        "   city mpg----------------City MPG  \n",
        "\n",
        "   Popularity--------------Popularity (Twitter)  \n",
        "\n",
        "   MSRP-------------------Manufacturer Suggested Retail Price\n",
        "\n",
        "\n",
        "\n",
        "\n",
        "\n",
        "\n",
        "\n"
      ]
    },
    {
      "cell_type": "markdown",
      "metadata": {
        "id": "U7TB6vIISeWc",
        "colab_type": "text"
      },
      "source": [
        "Step 1. Import the dataset and the necessary libraries, check datatype, statistical summary, shape, null values etc"
      ]
    },
    {
      "cell_type": "markdown",
      "metadata": {
        "id": "9wx9ncf9Vt8u",
        "colab_type": "text"
      },
      "source": [
        "1.1 we are importing the necessary libraries numpy,pandas,matplotlib and seaborn"
      ]
    },
    {
      "cell_type": "code",
      "metadata": {
        "id": "Z6sele2VS18j",
        "colab_type": "code",
        "colab": {
          "base_uri": "https://localhost:8080/",
          "height": 71
        },
        "outputId": "4aaf42e9-0ccf-4a67-a434-fc6aec50cfe4"
      },
      "source": [
        "#importing the necessary libraries which will help to build a ML model\n",
        "import numpy as np\n",
        "import pandas as pd\n",
        "import matplotlib.pyplot as plt\n",
        "import seaborn as sns"
      ],
      "execution_count": 1,
      "outputs": [
        {
          "output_type": "stream",
          "text": [
            "/usr/local/lib/python3.6/dist-packages/statsmodels/tools/_testing.py:19: FutureWarning: pandas.util.testing is deprecated. Use the functions in the public API at pandas.testing instead.\n",
            "  import pandas.util.testing as tm\n"
          ],
          "name": "stderr"
        }
      ]
    },
    {
      "cell_type": "code",
      "metadata": {
        "id": "0F-61DIuTliL",
        "colab_type": "code",
        "colab": {}
      },
      "source": [
        "#Loading the data set in to the colab\n",
        "df=pd.read_csv('/content/data.csv')\n"
      ],
      "execution_count": 2,
      "outputs": []
    },
    {
      "cell_type": "markdown",
      "metadata": {
        "id": "BJepdxrQWdxa",
        "colab_type": "text"
      },
      "source": [
        "1.2 checking the data type, shape,statistical summary"
      ]
    },
    {
      "cell_type": "code",
      "metadata": {
        "id": "dpBq83v6T7yD",
        "colab_type": "code",
        "colab": {
          "base_uri": "https://localhost:8080/",
          "height": 428
        },
        "outputId": "7ea26b7b-e6d1-4529-ad33-54b17daf9ccc"
      },
      "source": [
        "#Printing the  first 5 rows of data set\n",
        "df.head(5)\n"
      ],
      "execution_count": 109,
      "outputs": [
        {
          "output_type": "execute_result",
          "data": {
            "text/html": [
              "<div>\n",
              "<style scoped>\n",
              "    .dataframe tbody tr th:only-of-type {\n",
              "        vertical-align: middle;\n",
              "    }\n",
              "\n",
              "    .dataframe tbody tr th {\n",
              "        vertical-align: top;\n",
              "    }\n",
              "\n",
              "    .dataframe thead th {\n",
              "        text-align: right;\n",
              "    }\n",
              "</style>\n",
              "<table border=\"1\" class=\"dataframe\">\n",
              "  <thead>\n",
              "    <tr style=\"text-align: right;\">\n",
              "      <th></th>\n",
              "      <th>Make</th>\n",
              "      <th>Model</th>\n",
              "      <th>Year</th>\n",
              "      <th>Engine Fuel Type</th>\n",
              "      <th>Engine HP</th>\n",
              "      <th>Engine Cylinders</th>\n",
              "      <th>Transmission Type</th>\n",
              "      <th>Driven_Wheels</th>\n",
              "      <th>Number of Doors</th>\n",
              "      <th>Market Category</th>\n",
              "      <th>Vehicle Size</th>\n",
              "      <th>Vehicle Style</th>\n",
              "      <th>highway MPG</th>\n",
              "      <th>city mpg</th>\n",
              "      <th>Popularity</th>\n",
              "      <th>MSRP</th>\n",
              "    </tr>\n",
              "  </thead>\n",
              "  <tbody>\n",
              "    <tr>\n",
              "      <th>0</th>\n",
              "      <td>BMW</td>\n",
              "      <td>1 Series M</td>\n",
              "      <td>2011</td>\n",
              "      <td>premium unleaded (required)</td>\n",
              "      <td>335.0</td>\n",
              "      <td>6.0</td>\n",
              "      <td>MANUAL</td>\n",
              "      <td>rear wheel drive</td>\n",
              "      <td>2.0</td>\n",
              "      <td>Factory Tuner,Luxury,High-Performance</td>\n",
              "      <td>Compact</td>\n",
              "      <td>Coupe</td>\n",
              "      <td>26</td>\n",
              "      <td>19</td>\n",
              "      <td>3916</td>\n",
              "      <td>46135</td>\n",
              "    </tr>\n",
              "    <tr>\n",
              "      <th>1</th>\n",
              "      <td>BMW</td>\n",
              "      <td>1 Series</td>\n",
              "      <td>2011</td>\n",
              "      <td>premium unleaded (required)</td>\n",
              "      <td>300.0</td>\n",
              "      <td>6.0</td>\n",
              "      <td>MANUAL</td>\n",
              "      <td>rear wheel drive</td>\n",
              "      <td>2.0</td>\n",
              "      <td>Luxury,Performance</td>\n",
              "      <td>Compact</td>\n",
              "      <td>Convertible</td>\n",
              "      <td>28</td>\n",
              "      <td>19</td>\n",
              "      <td>3916</td>\n",
              "      <td>40650</td>\n",
              "    </tr>\n",
              "    <tr>\n",
              "      <th>2</th>\n",
              "      <td>BMW</td>\n",
              "      <td>1 Series</td>\n",
              "      <td>2011</td>\n",
              "      <td>premium unleaded (required)</td>\n",
              "      <td>300.0</td>\n",
              "      <td>6.0</td>\n",
              "      <td>MANUAL</td>\n",
              "      <td>rear wheel drive</td>\n",
              "      <td>2.0</td>\n",
              "      <td>Luxury,High-Performance</td>\n",
              "      <td>Compact</td>\n",
              "      <td>Coupe</td>\n",
              "      <td>28</td>\n",
              "      <td>20</td>\n",
              "      <td>3916</td>\n",
              "      <td>36350</td>\n",
              "    </tr>\n",
              "    <tr>\n",
              "      <th>3</th>\n",
              "      <td>BMW</td>\n",
              "      <td>1 Series</td>\n",
              "      <td>2011</td>\n",
              "      <td>premium unleaded (required)</td>\n",
              "      <td>230.0</td>\n",
              "      <td>6.0</td>\n",
              "      <td>MANUAL</td>\n",
              "      <td>rear wheel drive</td>\n",
              "      <td>2.0</td>\n",
              "      <td>Luxury,Performance</td>\n",
              "      <td>Compact</td>\n",
              "      <td>Coupe</td>\n",
              "      <td>28</td>\n",
              "      <td>18</td>\n",
              "      <td>3916</td>\n",
              "      <td>29450</td>\n",
              "    </tr>\n",
              "    <tr>\n",
              "      <th>4</th>\n",
              "      <td>BMW</td>\n",
              "      <td>1 Series</td>\n",
              "      <td>2011</td>\n",
              "      <td>premium unleaded (required)</td>\n",
              "      <td>230.0</td>\n",
              "      <td>6.0</td>\n",
              "      <td>MANUAL</td>\n",
              "      <td>rear wheel drive</td>\n",
              "      <td>2.0</td>\n",
              "      <td>Luxury</td>\n",
              "      <td>Compact</td>\n",
              "      <td>Convertible</td>\n",
              "      <td>28</td>\n",
              "      <td>18</td>\n",
              "      <td>3916</td>\n",
              "      <td>34500</td>\n",
              "    </tr>\n",
              "  </tbody>\n",
              "</table>\n",
              "</div>"
            ],
            "text/plain": [
              "  Make       Model  Year  ... city mpg  Popularity   MSRP\n",
              "0  BMW  1 Series M  2011  ...       19        3916  46135\n",
              "1  BMW    1 Series  2011  ...       19        3916  40650\n",
              "2  BMW    1 Series  2011  ...       20        3916  36350\n",
              "3  BMW    1 Series  2011  ...       18        3916  29450\n",
              "4  BMW    1 Series  2011  ...       18        3916  34500\n",
              "\n",
              "[5 rows x 16 columns]"
            ]
          },
          "metadata": {
            "tags": []
          },
          "execution_count": 109
        }
      ]
    },
    {
      "cell_type": "code",
      "metadata": {
        "id": "EKpg1qycUPwq",
        "colab_type": "code",
        "colab": {
          "base_uri": "https://localhost:8080/",
          "height": 411
        },
        "outputId": "db2d4fa5-e421-40ac-ddf3-cd5aeff101bf"
      },
      "source": [
        "#The below condition prints last 5 lines of data set\n",
        "df.tail(5)"
      ],
      "execution_count": 110,
      "outputs": [
        {
          "output_type": "execute_result",
          "data": {
            "text/html": [
              "<div>\n",
              "<style scoped>\n",
              "    .dataframe tbody tr th:only-of-type {\n",
              "        vertical-align: middle;\n",
              "    }\n",
              "\n",
              "    .dataframe tbody tr th {\n",
              "        vertical-align: top;\n",
              "    }\n",
              "\n",
              "    .dataframe thead th {\n",
              "        text-align: right;\n",
              "    }\n",
              "</style>\n",
              "<table border=\"1\" class=\"dataframe\">\n",
              "  <thead>\n",
              "    <tr style=\"text-align: right;\">\n",
              "      <th></th>\n",
              "      <th>Make</th>\n",
              "      <th>Model</th>\n",
              "      <th>Year</th>\n",
              "      <th>Engine Fuel Type</th>\n",
              "      <th>Engine HP</th>\n",
              "      <th>Engine Cylinders</th>\n",
              "      <th>Transmission Type</th>\n",
              "      <th>Driven_Wheels</th>\n",
              "      <th>Number of Doors</th>\n",
              "      <th>Market Category</th>\n",
              "      <th>Vehicle Size</th>\n",
              "      <th>Vehicle Style</th>\n",
              "      <th>highway MPG</th>\n",
              "      <th>city mpg</th>\n",
              "      <th>Popularity</th>\n",
              "      <th>MSRP</th>\n",
              "    </tr>\n",
              "  </thead>\n",
              "  <tbody>\n",
              "    <tr>\n",
              "      <th>11909</th>\n",
              "      <td>Acura</td>\n",
              "      <td>ZDX</td>\n",
              "      <td>2012</td>\n",
              "      <td>premium unleaded (required)</td>\n",
              "      <td>300.0</td>\n",
              "      <td>6.0</td>\n",
              "      <td>AUTOMATIC</td>\n",
              "      <td>all wheel drive</td>\n",
              "      <td>4.0</td>\n",
              "      <td>Crossover,Hatchback,Luxury</td>\n",
              "      <td>Midsize</td>\n",
              "      <td>4dr Hatchback</td>\n",
              "      <td>23</td>\n",
              "      <td>16</td>\n",
              "      <td>204</td>\n",
              "      <td>46120</td>\n",
              "    </tr>\n",
              "    <tr>\n",
              "      <th>11910</th>\n",
              "      <td>Acura</td>\n",
              "      <td>ZDX</td>\n",
              "      <td>2012</td>\n",
              "      <td>premium unleaded (required)</td>\n",
              "      <td>300.0</td>\n",
              "      <td>6.0</td>\n",
              "      <td>AUTOMATIC</td>\n",
              "      <td>all wheel drive</td>\n",
              "      <td>4.0</td>\n",
              "      <td>Crossover,Hatchback,Luxury</td>\n",
              "      <td>Midsize</td>\n",
              "      <td>4dr Hatchback</td>\n",
              "      <td>23</td>\n",
              "      <td>16</td>\n",
              "      <td>204</td>\n",
              "      <td>56670</td>\n",
              "    </tr>\n",
              "    <tr>\n",
              "      <th>11911</th>\n",
              "      <td>Acura</td>\n",
              "      <td>ZDX</td>\n",
              "      <td>2012</td>\n",
              "      <td>premium unleaded (required)</td>\n",
              "      <td>300.0</td>\n",
              "      <td>6.0</td>\n",
              "      <td>AUTOMATIC</td>\n",
              "      <td>all wheel drive</td>\n",
              "      <td>4.0</td>\n",
              "      <td>Crossover,Hatchback,Luxury</td>\n",
              "      <td>Midsize</td>\n",
              "      <td>4dr Hatchback</td>\n",
              "      <td>23</td>\n",
              "      <td>16</td>\n",
              "      <td>204</td>\n",
              "      <td>50620</td>\n",
              "    </tr>\n",
              "    <tr>\n",
              "      <th>11912</th>\n",
              "      <td>Acura</td>\n",
              "      <td>ZDX</td>\n",
              "      <td>2013</td>\n",
              "      <td>premium unleaded (recommended)</td>\n",
              "      <td>300.0</td>\n",
              "      <td>6.0</td>\n",
              "      <td>AUTOMATIC</td>\n",
              "      <td>all wheel drive</td>\n",
              "      <td>4.0</td>\n",
              "      <td>Crossover,Hatchback,Luxury</td>\n",
              "      <td>Midsize</td>\n",
              "      <td>4dr Hatchback</td>\n",
              "      <td>23</td>\n",
              "      <td>16</td>\n",
              "      <td>204</td>\n",
              "      <td>50920</td>\n",
              "    </tr>\n",
              "    <tr>\n",
              "      <th>11913</th>\n",
              "      <td>Lincoln</td>\n",
              "      <td>Zephyr</td>\n",
              "      <td>2006</td>\n",
              "      <td>regular unleaded</td>\n",
              "      <td>221.0</td>\n",
              "      <td>6.0</td>\n",
              "      <td>AUTOMATIC</td>\n",
              "      <td>front wheel drive</td>\n",
              "      <td>4.0</td>\n",
              "      <td>Luxury</td>\n",
              "      <td>Midsize</td>\n",
              "      <td>Sedan</td>\n",
              "      <td>26</td>\n",
              "      <td>17</td>\n",
              "      <td>61</td>\n",
              "      <td>28995</td>\n",
              "    </tr>\n",
              "  </tbody>\n",
              "</table>\n",
              "</div>"
            ],
            "text/plain": [
              "          Make   Model  Year  ... city mpg  Popularity   MSRP\n",
              "11909    Acura     ZDX  2012  ...       16         204  46120\n",
              "11910    Acura     ZDX  2012  ...       16         204  56670\n",
              "11911    Acura     ZDX  2012  ...       16         204  50620\n",
              "11912    Acura     ZDX  2013  ...       16         204  50920\n",
              "11913  Lincoln  Zephyr  2006  ...       17          61  28995\n",
              "\n",
              "[5 rows x 16 columns]"
            ]
          },
          "metadata": {
            "tags": []
          },
          "execution_count": 110
        }
      ]
    },
    {
      "cell_type": "code",
      "metadata": {
        "id": "H708BdCSUccr",
        "colab_type": "code",
        "colab": {
          "base_uri": "https://localhost:8080/",
          "height": 34
        },
        "outputId": "a8d332d9-f364-4e7a-a3a8-65809d780e0f"
      },
      "source": [
        "# we can use shape attribute to know the number of rows and columns in the given data set\n",
        "df.shape\n"
      ],
      "execution_count": 111,
      "outputs": [
        {
          "output_type": "execute_result",
          "data": {
            "text/plain": [
              "(11914, 16)"
            ]
          },
          "metadata": {
            "tags": []
          },
          "execution_count": 111
        }
      ]
    },
    {
      "cell_type": "code",
      "metadata": {
        "id": "TdeI-NJAVAgM",
        "colab_type": "code",
        "colab": {
          "base_uri": "https://localhost:8080/",
          "height": 297
        },
        "outputId": "f7261f3c-8432-472f-af20-9aae674ecce6"
      },
      "source": [
        "#Describe function returns count,mean,std,min etc i.e statiscal summary \n",
        "df.describe()\n"
      ],
      "execution_count": 112,
      "outputs": [
        {
          "output_type": "execute_result",
          "data": {
            "text/html": [
              "<div>\n",
              "<style scoped>\n",
              "    .dataframe tbody tr th:only-of-type {\n",
              "        vertical-align: middle;\n",
              "    }\n",
              "\n",
              "    .dataframe tbody tr th {\n",
              "        vertical-align: top;\n",
              "    }\n",
              "\n",
              "    .dataframe thead th {\n",
              "        text-align: right;\n",
              "    }\n",
              "</style>\n",
              "<table border=\"1\" class=\"dataframe\">\n",
              "  <thead>\n",
              "    <tr style=\"text-align: right;\">\n",
              "      <th></th>\n",
              "      <th>Year</th>\n",
              "      <th>Engine HP</th>\n",
              "      <th>Engine Cylinders</th>\n",
              "      <th>Number of Doors</th>\n",
              "      <th>highway MPG</th>\n",
              "      <th>city mpg</th>\n",
              "      <th>Popularity</th>\n",
              "      <th>MSRP</th>\n",
              "    </tr>\n",
              "  </thead>\n",
              "  <tbody>\n",
              "    <tr>\n",
              "      <th>count</th>\n",
              "      <td>11914.000000</td>\n",
              "      <td>11845.00000</td>\n",
              "      <td>11884.000000</td>\n",
              "      <td>11908.000000</td>\n",
              "      <td>11914.000000</td>\n",
              "      <td>11914.000000</td>\n",
              "      <td>11914.000000</td>\n",
              "      <td>1.191400e+04</td>\n",
              "    </tr>\n",
              "    <tr>\n",
              "      <th>mean</th>\n",
              "      <td>2010.384338</td>\n",
              "      <td>249.38607</td>\n",
              "      <td>5.628829</td>\n",
              "      <td>3.436093</td>\n",
              "      <td>26.637485</td>\n",
              "      <td>19.733255</td>\n",
              "      <td>1554.911197</td>\n",
              "      <td>4.059474e+04</td>\n",
              "    </tr>\n",
              "    <tr>\n",
              "      <th>std</th>\n",
              "      <td>7.579740</td>\n",
              "      <td>109.19187</td>\n",
              "      <td>1.780559</td>\n",
              "      <td>0.881315</td>\n",
              "      <td>8.863001</td>\n",
              "      <td>8.987798</td>\n",
              "      <td>1441.855347</td>\n",
              "      <td>6.010910e+04</td>\n",
              "    </tr>\n",
              "    <tr>\n",
              "      <th>min</th>\n",
              "      <td>1990.000000</td>\n",
              "      <td>55.00000</td>\n",
              "      <td>0.000000</td>\n",
              "      <td>2.000000</td>\n",
              "      <td>12.000000</td>\n",
              "      <td>7.000000</td>\n",
              "      <td>2.000000</td>\n",
              "      <td>2.000000e+03</td>\n",
              "    </tr>\n",
              "    <tr>\n",
              "      <th>25%</th>\n",
              "      <td>2007.000000</td>\n",
              "      <td>170.00000</td>\n",
              "      <td>4.000000</td>\n",
              "      <td>2.000000</td>\n",
              "      <td>22.000000</td>\n",
              "      <td>16.000000</td>\n",
              "      <td>549.000000</td>\n",
              "      <td>2.100000e+04</td>\n",
              "    </tr>\n",
              "    <tr>\n",
              "      <th>50%</th>\n",
              "      <td>2015.000000</td>\n",
              "      <td>227.00000</td>\n",
              "      <td>6.000000</td>\n",
              "      <td>4.000000</td>\n",
              "      <td>26.000000</td>\n",
              "      <td>18.000000</td>\n",
              "      <td>1385.000000</td>\n",
              "      <td>2.999500e+04</td>\n",
              "    </tr>\n",
              "    <tr>\n",
              "      <th>75%</th>\n",
              "      <td>2016.000000</td>\n",
              "      <td>300.00000</td>\n",
              "      <td>6.000000</td>\n",
              "      <td>4.000000</td>\n",
              "      <td>30.000000</td>\n",
              "      <td>22.000000</td>\n",
              "      <td>2009.000000</td>\n",
              "      <td>4.223125e+04</td>\n",
              "    </tr>\n",
              "    <tr>\n",
              "      <th>max</th>\n",
              "      <td>2017.000000</td>\n",
              "      <td>1001.00000</td>\n",
              "      <td>16.000000</td>\n",
              "      <td>4.000000</td>\n",
              "      <td>354.000000</td>\n",
              "      <td>137.000000</td>\n",
              "      <td>5657.000000</td>\n",
              "      <td>2.065902e+06</td>\n",
              "    </tr>\n",
              "  </tbody>\n",
              "</table>\n",
              "</div>"
            ],
            "text/plain": [
              "               Year    Engine HP  ...    Popularity          MSRP\n",
              "count  11914.000000  11845.00000  ...  11914.000000  1.191400e+04\n",
              "mean    2010.384338    249.38607  ...   1554.911197  4.059474e+04\n",
              "std        7.579740    109.19187  ...   1441.855347  6.010910e+04\n",
              "min     1990.000000     55.00000  ...      2.000000  2.000000e+03\n",
              "25%     2007.000000    170.00000  ...    549.000000  2.100000e+04\n",
              "50%     2015.000000    227.00000  ...   1385.000000  2.999500e+04\n",
              "75%     2016.000000    300.00000  ...   2009.000000  4.223125e+04\n",
              "max     2017.000000   1001.00000  ...   5657.000000  2.065902e+06\n",
              "\n",
              "[8 rows x 8 columns]"
            ]
          },
          "metadata": {
            "tags": []
          },
          "execution_count": 112
        }
      ]
    },
    {
      "cell_type": "code",
      "metadata": {
        "id": "ZgmQEbxFj3Uu",
        "colab_type": "code",
        "colab": {
          "base_uri": "https://localhost:8080/",
          "height": 374
        },
        "outputId": "9db313ae-ce04-4286-8170-1a6c198503db"
      },
      "source": [
        "#summary of the dataframe is given by info()\n",
        "df.info()"
      ],
      "execution_count": 106,
      "outputs": [
        {
          "output_type": "stream",
          "text": [
            "<class 'pandas.core.frame.DataFrame'>\n",
            "Int64Index: 6474 entries, 64 to 11913\n",
            "Data columns (total 14 columns):\n",
            " #   Column            Non-Null Count  Dtype  \n",
            "---  ------            --------------  -----  \n",
            " 0   Make              6474 non-null   object \n",
            " 1   Model             6474 non-null   object \n",
            " 2   Year              6474 non-null   int64  \n",
            " 3   Engine Fuel Type  6474 non-null   object \n",
            " 4   HP                6474 non-null   float64\n",
            " 5   Cylinders         6474 non-null   float64\n",
            " 6   Transmission      6474 non-null   object \n",
            " 7   Drive Mode        6474 non-null   object \n",
            " 8   Number of Doors   6474 non-null   float64\n",
            " 9   Vehicle Style     6474 non-null   object \n",
            " 10  MPG-H             6474 non-null   int64  \n",
            " 11  MPG-C             6474 non-null   int64  \n",
            " 12  Popularity        6474 non-null   int64  \n",
            " 13  Price             6474 non-null   int64  \n",
            "dtypes: float64(3), int64(5), object(6)\n",
            "memory usage: 1.1+ MB\n"
          ],
          "name": "stdout"
        }
      ]
    },
    {
      "cell_type": "code",
      "metadata": {
        "id": "-meYBhMDVedK",
        "colab_type": "code",
        "colab": {
          "base_uri": "https://localhost:8080/",
          "height": 306
        },
        "outputId": "876851a3-4ebd-48b3-c6b1-90db38787702"
      },
      "source": [
        "#To know the data types of each column in the data set dtypes attribute is used\n",
        "df.dtypes"
      ],
      "execution_count": 113,
      "outputs": [
        {
          "output_type": "execute_result",
          "data": {
            "text/plain": [
              "Make                  object\n",
              "Model                 object\n",
              "Year                   int64\n",
              "Engine Fuel Type      object\n",
              "Engine HP            float64\n",
              "Engine Cylinders     float64\n",
              "Transmission Type     object\n",
              "Driven_Wheels         object\n",
              "Number of Doors      float64\n",
              "Market Category       object\n",
              "Vehicle Size          object\n",
              "Vehicle Style         object\n",
              "highway MPG            int64\n",
              "city mpg               int64\n",
              "Popularity             int64\n",
              "MSRP                   int64\n",
              "dtype: object"
            ]
          },
          "metadata": {
            "tags": []
          },
          "execution_count": 113
        }
      ]
    },
    {
      "cell_type": "code",
      "metadata": {
        "id": "-8rJcnKkVzm4",
        "colab_type": "code",
        "colab": {
          "base_uri": "https://localhost:8080/",
          "height": 102
        },
        "outputId": "2187ed88-6a6a-406c-e425-23c51d0cd00e"
      },
      "source": [
        "#To know the columns name of the data set columns attribute is used\n",
        "df.columns"
      ],
      "execution_count": 114,
      "outputs": [
        {
          "output_type": "execute_result",
          "data": {
            "text/plain": [
              "Index(['Make', 'Model', 'Year', 'Engine Fuel Type', 'Engine HP',\n",
              "       'Engine Cylinders', 'Transmission Type', 'Driven_Wheels',\n",
              "       'Number of Doors', 'Market Category', 'Vehicle Size', 'Vehicle Style',\n",
              "       'highway MPG', 'city mpg', 'Popularity', 'MSRP'],\n",
              "      dtype='object')"
            ]
          },
          "metadata": {
            "tags": []
          },
          "execution_count": 114
        }
      ]
    },
    {
      "cell_type": "code",
      "metadata": {
        "id": "dB9N9rR3WKl7",
        "colab_type": "code",
        "colab": {
          "base_uri": "https://localhost:8080/",
          "height": 136
        },
        "outputId": "bae77f5c-0e6b-4b5f-f77a-90250d7a3351"
      },
      "source": [
        "#we can get the values of dataset by the attribute values\n",
        "df.values  "
      ],
      "execution_count": 115,
      "outputs": [
        {
          "output_type": "execute_result",
          "data": {
            "text/plain": [
              "array([['BMW', '1 Series M', 2011, ..., 19, 3916, 46135],\n",
              "       ['BMW', '1 Series', 2011, ..., 19, 3916, 40650],\n",
              "       ['BMW', '1 Series', 2011, ..., 20, 3916, 36350],\n",
              "       ...,\n",
              "       ['Acura', 'ZDX', 2012, ..., 16, 204, 50620],\n",
              "       ['Acura', 'ZDX', 2013, ..., 16, 204, 50920],\n",
              "       ['Lincoln', 'Zephyr', 2006, ..., 17, 61, 28995]], dtype=object)"
            ]
          },
          "metadata": {
            "tags": []
          },
          "execution_count": 115
        }
      ]
    },
    {
      "cell_type": "code",
      "metadata": {
        "id": "ytrnNNmgWf2g",
        "colab_type": "code",
        "colab": {
          "base_uri": "https://localhost:8080/",
          "height": 170
        },
        "outputId": "2d49703b-add7-4595-fe2e-55fe20d4e34f"
      },
      "source": [
        "#we an also find standard deviation in column wise and we can also find median row wise by axis=1\n",
        "df.std(axis=0)"
      ],
      "execution_count": 116,
      "outputs": [
        {
          "output_type": "execute_result",
          "data": {
            "text/plain": [
              "Year                    7.579740\n",
              "Engine HP             109.191870\n",
              "Engine Cylinders        1.780559\n",
              "Number of Doors         0.881315\n",
              "highway MPG             8.863001\n",
              "city mpg                8.987798\n",
              "Popularity           1441.855347\n",
              "MSRP                60109.103604\n",
              "dtype: float64"
            ]
          },
          "metadata": {
            "tags": []
          },
          "execution_count": 116
        }
      ]
    },
    {
      "cell_type": "code",
      "metadata": {
        "id": "Wh4Qypa0W05l",
        "colab_type": "code",
        "colab": {
          "base_uri": "https://localhost:8080/",
          "height": 170
        },
        "outputId": "26db406e-74bd-491a-800e-226cf587a6fc"
      },
      "source": [
        "#we can also find the mean , column wise by axis =0 and we can also find median row wise by axis=1\n",
        "df.mean(axis=0)"
      ],
      "execution_count": 117,
      "outputs": [
        {
          "output_type": "execute_result",
          "data": {
            "text/plain": [
              "Year                 2010.384338\n",
              "Engine HP             249.386070\n",
              "Engine Cylinders        5.628829\n",
              "Number of Doors         3.436093\n",
              "highway MPG            26.637485\n",
              "city mpg               19.733255\n",
              "Popularity           1554.911197\n",
              "MSRP                40594.737032\n",
              "dtype: float64"
            ]
          },
          "metadata": {
            "tags": []
          },
          "execution_count": 117
        }
      ]
    },
    {
      "cell_type": "code",
      "metadata": {
        "id": "fZ3tYd1sW7G4",
        "colab_type": "code",
        "colab": {
          "base_uri": "https://localhost:8080/",
          "height": 170
        },
        "outputId": "14dff866-329a-4fdd-eacb-e314e5b94bda"
      },
      "source": [
        "#median of the data set,column wise  and we can also find median row wise by axis=1\n",
        "df.median(axis=0)"
      ],
      "execution_count": 118,
      "outputs": [
        {
          "output_type": "execute_result",
          "data": {
            "text/plain": [
              "Year                 2015.0\n",
              "Engine HP             227.0\n",
              "Engine Cylinders        6.0\n",
              "Number of Doors         4.0\n",
              "highway MPG            26.0\n",
              "city mpg               18.0\n",
              "Popularity           1385.0\n",
              "MSRP                29995.0\n",
              "dtype: float64"
            ]
          },
          "metadata": {
            "tags": []
          },
          "execution_count": 118
        }
      ]
    },
    {
      "cell_type": "code",
      "metadata": {
        "id": "XYtree6fdciJ",
        "colab_type": "code",
        "colab": {
          "base_uri": "https://localhost:8080/",
          "height": 306
        },
        "outputId": "df02e33d-570e-438c-ee91-72a1d7705ecf"
      },
      "source": [
        "# since the project deals with the data we have to clean i.e the null values should removed inorder to check \n",
        "# total null values in the given data set isnull() is used\n",
        "df.isnull().sum()"
      ],
      "execution_count": 119,
      "outputs": [
        {
          "output_type": "execute_result",
          "data": {
            "text/plain": [
              "Make                    0\n",
              "Model                   0\n",
              "Year                    0\n",
              "Engine Fuel Type        3\n",
              "Engine HP              69\n",
              "Engine Cylinders       30\n",
              "Transmission Type       0\n",
              "Driven_Wheels           0\n",
              "Number of Doors         6\n",
              "Market Category      3742\n",
              "Vehicle Size            0\n",
              "Vehicle Style           0\n",
              "highway MPG             0\n",
              "city mpg                0\n",
              "Popularity              0\n",
              "MSRP                    0\n",
              "dtype: int64"
            ]
          },
          "metadata": {
            "tags": []
          },
          "execution_count": 119
        }
      ]
    },
    {
      "cell_type": "markdown",
      "metadata": {
        "id": "uCfi6fOdg8W7",
        "colab_type": "text"
      },
      "source": [
        " step2. Are there any columns in the dataset which you think are of less relevance. If so, give your reasoning and drop them. "
      ]
    },
    {
      "cell_type": "markdown",
      "metadata": {
        "id": "wFFa9VMRK5-k",
        "colab_type": "text"
      },
      "source": [
        "The step2 is one of the most important to drop the columns which are irrelavent and not usefull for further use and i will drop the columns like   Market Category and Size of Vehicle i.e vehicle size because since Market category has more null values we cannot use for further use and vehicle size can be guess by vehicle style , its not be useful for further ."
      ]
    },
    {
      "cell_type": "code",
      "metadata": {
        "id": "FrEa3e5ejjeh",
        "colab_type": "code",
        "colab": {}
      },
      "source": [
        "#drop method is used to drop the columns in the dataset\n",
        "df=df.drop(['Market Category','Vehicle Size'],axis=1)\n"
      ],
      "execution_count": 3,
      "outputs": []
    },
    {
      "cell_type": "code",
      "metadata": {
        "id": "0hTob0YvhS8h",
        "colab_type": "code",
        "colab": {
          "base_uri": "https://localhost:8080/",
          "height": 428
        },
        "outputId": "a28d2e4a-b27c-4c2c-fed1-4b974aa726d4"
      },
      "source": [
        "#after dropping the columns the columns and values in the dataset are\n",
        "df.head(5)"
      ],
      "execution_count": 4,
      "outputs": [
        {
          "output_type": "execute_result",
          "data": {
            "text/html": [
              "<div>\n",
              "<style scoped>\n",
              "    .dataframe tbody tr th:only-of-type {\n",
              "        vertical-align: middle;\n",
              "    }\n",
              "\n",
              "    .dataframe tbody tr th {\n",
              "        vertical-align: top;\n",
              "    }\n",
              "\n",
              "    .dataframe thead th {\n",
              "        text-align: right;\n",
              "    }\n",
              "</style>\n",
              "<table border=\"1\" class=\"dataframe\">\n",
              "  <thead>\n",
              "    <tr style=\"text-align: right;\">\n",
              "      <th></th>\n",
              "      <th>Make</th>\n",
              "      <th>Model</th>\n",
              "      <th>Year</th>\n",
              "      <th>Engine Fuel Type</th>\n",
              "      <th>Engine HP</th>\n",
              "      <th>Engine Cylinders</th>\n",
              "      <th>Transmission Type</th>\n",
              "      <th>Driven_Wheels</th>\n",
              "      <th>Number of Doors</th>\n",
              "      <th>Vehicle Style</th>\n",
              "      <th>highway MPG</th>\n",
              "      <th>city mpg</th>\n",
              "      <th>Popularity</th>\n",
              "      <th>MSRP</th>\n",
              "    </tr>\n",
              "  </thead>\n",
              "  <tbody>\n",
              "    <tr>\n",
              "      <th>0</th>\n",
              "      <td>BMW</td>\n",
              "      <td>1 Series M</td>\n",
              "      <td>2011</td>\n",
              "      <td>premium unleaded (required)</td>\n",
              "      <td>335.0</td>\n",
              "      <td>6.0</td>\n",
              "      <td>MANUAL</td>\n",
              "      <td>rear wheel drive</td>\n",
              "      <td>2.0</td>\n",
              "      <td>Coupe</td>\n",
              "      <td>26</td>\n",
              "      <td>19</td>\n",
              "      <td>3916</td>\n",
              "      <td>46135</td>\n",
              "    </tr>\n",
              "    <tr>\n",
              "      <th>1</th>\n",
              "      <td>BMW</td>\n",
              "      <td>1 Series</td>\n",
              "      <td>2011</td>\n",
              "      <td>premium unleaded (required)</td>\n",
              "      <td>300.0</td>\n",
              "      <td>6.0</td>\n",
              "      <td>MANUAL</td>\n",
              "      <td>rear wheel drive</td>\n",
              "      <td>2.0</td>\n",
              "      <td>Convertible</td>\n",
              "      <td>28</td>\n",
              "      <td>19</td>\n",
              "      <td>3916</td>\n",
              "      <td>40650</td>\n",
              "    </tr>\n",
              "    <tr>\n",
              "      <th>2</th>\n",
              "      <td>BMW</td>\n",
              "      <td>1 Series</td>\n",
              "      <td>2011</td>\n",
              "      <td>premium unleaded (required)</td>\n",
              "      <td>300.0</td>\n",
              "      <td>6.0</td>\n",
              "      <td>MANUAL</td>\n",
              "      <td>rear wheel drive</td>\n",
              "      <td>2.0</td>\n",
              "      <td>Coupe</td>\n",
              "      <td>28</td>\n",
              "      <td>20</td>\n",
              "      <td>3916</td>\n",
              "      <td>36350</td>\n",
              "    </tr>\n",
              "    <tr>\n",
              "      <th>3</th>\n",
              "      <td>BMW</td>\n",
              "      <td>1 Series</td>\n",
              "      <td>2011</td>\n",
              "      <td>premium unleaded (required)</td>\n",
              "      <td>230.0</td>\n",
              "      <td>6.0</td>\n",
              "      <td>MANUAL</td>\n",
              "      <td>rear wheel drive</td>\n",
              "      <td>2.0</td>\n",
              "      <td>Coupe</td>\n",
              "      <td>28</td>\n",
              "      <td>18</td>\n",
              "      <td>3916</td>\n",
              "      <td>29450</td>\n",
              "    </tr>\n",
              "    <tr>\n",
              "      <th>4</th>\n",
              "      <td>BMW</td>\n",
              "      <td>1 Series</td>\n",
              "      <td>2011</td>\n",
              "      <td>premium unleaded (required)</td>\n",
              "      <td>230.0</td>\n",
              "      <td>6.0</td>\n",
              "      <td>MANUAL</td>\n",
              "      <td>rear wheel drive</td>\n",
              "      <td>2.0</td>\n",
              "      <td>Convertible</td>\n",
              "      <td>28</td>\n",
              "      <td>18</td>\n",
              "      <td>3916</td>\n",
              "      <td>34500</td>\n",
              "    </tr>\n",
              "  </tbody>\n",
              "</table>\n",
              "</div>"
            ],
            "text/plain": [
              "  Make       Model  Year  ... city mpg  Popularity   MSRP\n",
              "0  BMW  1 Series M  2011  ...       19        3916  46135\n",
              "1  BMW    1 Series  2011  ...       19        3916  40650\n",
              "2  BMW    1 Series  2011  ...       20        3916  36350\n",
              "3  BMW    1 Series  2011  ...       18        3916  29450\n",
              "4  BMW    1 Series  2011  ...       18        3916  34500\n",
              "\n",
              "[5 rows x 14 columns]"
            ]
          },
          "metadata": {
            "tags": []
          },
          "execution_count": 4
        }
      ]
    },
    {
      "cell_type": "markdown",
      "metadata": {
        "id": "hHMRfbWuQEY2",
        "colab_type": "text"
      },
      "source": [
        "Step3. Rename the columns \"Engine HP\": \"HP\", \"Engine Cylinders\": \"Cylinders\", \"Transmission Type\": \"Transmission\", \"Driven_Wheels\": \"Drive Mode\",\"highway MPG\": \"MPG-H\", \"city mpg\": \"MPG-C\", \"MSRP\": \"Price\""
      ]
    },
    {
      "cell_type": "markdown",
      "metadata": {
        "id": "ce_XOSEOQO3p",
        "colab_type": "text"
      },
      "source": [
        "In step 3 Renaming the exiting columns in the dataset"
      ]
    },
    {
      "cell_type": "code",
      "metadata": {
        "id": "wTsF-cQ2QfWV",
        "colab_type": "code",
        "colab": {}
      },
      "source": [
        "df.rename(columns={ \"Engine HP\": \"HP\", \"Engine Cylinders\": \"Cylinders\", \"Transmission Type\": \"Transmission\", \"Driven_Wheels\": \"Drive Mode\",\"highway MPG\": \"MPG-H\", \"city mpg\": \"MPG-C\", \"MSRP\": \"Price\" },inplace='True')"
      ],
      "execution_count": 10,
      "outputs": []
    },
    {
      "cell_type": "markdown",
      "metadata": {
        "id": "H1LyzFMzRb44",
        "colab_type": "text"
      },
      "source": [
        "Step 4. Check for any duplicates in the data, check for null values and  missing data and remove them"
      ]
    },
    {
      "cell_type": "markdown",
      "metadata": {
        "id": "A8qCyBw9RpuJ",
        "colab_type": "text"
      },
      "source": [
        "4.1: Checking the duplicates in the dataset by isnull() method. Pandas duplicated() method helps in analyzing duplicate values only. It returns a boolean series which is True only for Unique elements."
      ]
    },
    {
      "cell_type": "code",
      "metadata": {
        "id": "SezRunqW-UjT",
        "colab_type": "code",
        "colab": {
          "base_uri": "https://localhost:8080/",
          "height": 34
        },
        "outputId": "cb75eae2-67d0-4314-99c9-a22129965a42"
      },
      "source": [
        "total_duplicate_rows = df.duplicated() #returns duplicate values\n",
        "print(\"number of duplicate rows: \", df[total_duplicate_rows].shape)"
      ],
      "execution_count": 11,
      "outputs": [
        {
          "output_type": "stream",
          "text": [
            "number of duplicate rows:  (731, 14)\n"
          ],
          "name": "stdout"
        }
      ]
    },
    {
      "cell_type": "code",
      "metadata": {
        "id": "GnNY8ooqR0wF",
        "colab_type": "code",
        "colab": {
          "base_uri": "https://localhost:8080/",
          "height": 272
        },
        "outputId": "2060baf0-1839-4b42-8235-3c8e0dafc8bf"
      },
      "source": [
        "df.isnull().sum()"
      ],
      "execution_count": 55,
      "outputs": [
        {
          "output_type": "execute_result",
          "data": {
            "text/plain": [
              "Make                  0\n",
              "Model                 0\n",
              "Year                  0\n",
              "Engine Fuel Type      3\n",
              "Engine HP            69\n",
              "Engine Cylinders     30\n",
              "Transmission Type     0\n",
              "Driven_Wheels         0\n",
              "Number of Doors       6\n",
              "Vehicle Style         0\n",
              "highway MPG           0\n",
              "city mpg              0\n",
              "Popularity            0\n",
              "MSRP                  0\n",
              "dtype: int64"
            ]
          },
          "metadata": {
            "tags": []
          },
          "execution_count": 55
        }
      ]
    },
    {
      "cell_type": "markdown",
      "metadata": {
        "id": "ff0OBfrfR-8b",
        "colab_type": "text"
      },
      "source": [
        "4.2: Dropping the columns which are null"
      ]
    },
    {
      "cell_type": "code",
      "metadata": {
        "id": "82Bt_V68SG0y",
        "colab_type": "code",
        "colab": {
          "base_uri": "https://localhost:8080/",
          "height": 272
        },
        "outputId": "f9a0d91b-b7d4-4909-a458-6afc34f0a9da"
      },
      "source": [
        "df=df.dropna() #dropna will drop the null values\n",
        "df.count()#return total number of non null values in the data set"
      ],
      "execution_count": 12,
      "outputs": [
        {
          "output_type": "execute_result",
          "data": {
            "text/plain": [
              "Make                11812\n",
              "Model               11812\n",
              "Year                11812\n",
              "Engine Fuel Type    11812\n",
              "HP                  11812\n",
              "Cylinders           11812\n",
              "Transmission        11812\n",
              "Drive Mode          11812\n",
              "Number of Doors     11812\n",
              "Vehicle Style       11812\n",
              "MPG-H               11812\n",
              "MPG-C               11812\n",
              "Popularity          11812\n",
              "Price               11812\n",
              "dtype: int64"
            ]
          },
          "metadata": {
            "tags": []
          },
          "execution_count": 12
        }
      ]
    },
    {
      "cell_type": "code",
      "metadata": {
        "id": "YyX1MSkFSuJ-",
        "colab_type": "code",
        "colab": {
          "base_uri": "https://localhost:8080/",
          "height": 408
        },
        "outputId": "1036336e-1d08-48af-d40f-80f90605f5aa"
      },
      "source": [
        "df.head(5)"
      ],
      "execution_count": 125,
      "outputs": [
        {
          "output_type": "execute_result",
          "data": {
            "text/html": [
              "<div>\n",
              "<style scoped>\n",
              "    .dataframe tbody tr th:only-of-type {\n",
              "        vertical-align: middle;\n",
              "    }\n",
              "\n",
              "    .dataframe tbody tr th {\n",
              "        vertical-align: top;\n",
              "    }\n",
              "\n",
              "    .dataframe thead th {\n",
              "        text-align: right;\n",
              "    }\n",
              "</style>\n",
              "<table border=\"1\" class=\"dataframe\">\n",
              "  <thead>\n",
              "    <tr style=\"text-align: right;\">\n",
              "      <th></th>\n",
              "      <th>Make</th>\n",
              "      <th>Model</th>\n",
              "      <th>Year</th>\n",
              "      <th>Engine Fuel Type</th>\n",
              "      <th>HP</th>\n",
              "      <th>Cylinders</th>\n",
              "      <th>Transmission</th>\n",
              "      <th>Drive Mode</th>\n",
              "      <th>Number of Doors</th>\n",
              "      <th>Vehicle Style</th>\n",
              "      <th>MPG-H</th>\n",
              "      <th>MPG-C</th>\n",
              "      <th>Popularity</th>\n",
              "      <th>Price</th>\n",
              "    </tr>\n",
              "  </thead>\n",
              "  <tbody>\n",
              "    <tr>\n",
              "      <th>0</th>\n",
              "      <td>BMW</td>\n",
              "      <td>1 Series M</td>\n",
              "      <td>2011</td>\n",
              "      <td>premium unleaded (required)</td>\n",
              "      <td>335.0</td>\n",
              "      <td>6.0</td>\n",
              "      <td>MANUAL</td>\n",
              "      <td>rear wheel drive</td>\n",
              "      <td>2.0</td>\n",
              "      <td>Coupe</td>\n",
              "      <td>26</td>\n",
              "      <td>19</td>\n",
              "      <td>3916</td>\n",
              "      <td>46135</td>\n",
              "    </tr>\n",
              "    <tr>\n",
              "      <th>1</th>\n",
              "      <td>BMW</td>\n",
              "      <td>1 Series</td>\n",
              "      <td>2011</td>\n",
              "      <td>premium unleaded (required)</td>\n",
              "      <td>300.0</td>\n",
              "      <td>6.0</td>\n",
              "      <td>MANUAL</td>\n",
              "      <td>rear wheel drive</td>\n",
              "      <td>2.0</td>\n",
              "      <td>Convertible</td>\n",
              "      <td>28</td>\n",
              "      <td>19</td>\n",
              "      <td>3916</td>\n",
              "      <td>40650</td>\n",
              "    </tr>\n",
              "    <tr>\n",
              "      <th>2</th>\n",
              "      <td>BMW</td>\n",
              "      <td>1 Series</td>\n",
              "      <td>2011</td>\n",
              "      <td>premium unleaded (required)</td>\n",
              "      <td>300.0</td>\n",
              "      <td>6.0</td>\n",
              "      <td>MANUAL</td>\n",
              "      <td>rear wheel drive</td>\n",
              "      <td>2.0</td>\n",
              "      <td>Coupe</td>\n",
              "      <td>28</td>\n",
              "      <td>20</td>\n",
              "      <td>3916</td>\n",
              "      <td>36350</td>\n",
              "    </tr>\n",
              "    <tr>\n",
              "      <th>3</th>\n",
              "      <td>BMW</td>\n",
              "      <td>1 Series</td>\n",
              "      <td>2011</td>\n",
              "      <td>premium unleaded (required)</td>\n",
              "      <td>230.0</td>\n",
              "      <td>6.0</td>\n",
              "      <td>MANUAL</td>\n",
              "      <td>rear wheel drive</td>\n",
              "      <td>2.0</td>\n",
              "      <td>Coupe</td>\n",
              "      <td>28</td>\n",
              "      <td>18</td>\n",
              "      <td>3916</td>\n",
              "      <td>29450</td>\n",
              "    </tr>\n",
              "    <tr>\n",
              "      <th>4</th>\n",
              "      <td>BMW</td>\n",
              "      <td>1 Series</td>\n",
              "      <td>2011</td>\n",
              "      <td>premium unleaded (required)</td>\n",
              "      <td>230.0</td>\n",
              "      <td>6.0</td>\n",
              "      <td>MANUAL</td>\n",
              "      <td>rear wheel drive</td>\n",
              "      <td>2.0</td>\n",
              "      <td>Convertible</td>\n",
              "      <td>28</td>\n",
              "      <td>18</td>\n",
              "      <td>3916</td>\n",
              "      <td>34500</td>\n",
              "    </tr>\n",
              "  </tbody>\n",
              "</table>\n",
              "</div>"
            ],
            "text/plain": [
              "  Make       Model  Year  ... MPG-C  Popularity  Price\n",
              "0  BMW  1 Series M  2011  ...    19        3916  46135\n",
              "1  BMW    1 Series  2011  ...    19        3916  40650\n",
              "2  BMW    1 Series  2011  ...    20        3916  36350\n",
              "3  BMW    1 Series  2011  ...    18        3916  29450\n",
              "4  BMW    1 Series  2011  ...    18        3916  34500\n",
              "\n",
              "[5 rows x 14 columns]"
            ]
          },
          "metadata": {
            "tags": []
          },
          "execution_count": 125
        }
      ]
    },
    {
      "cell_type": "markdown",
      "metadata": {
        "id": "VlinFnhIPuQQ",
        "colab_type": "text"
      },
      "source": [
        "Step5. Plot graphs of various columns to check for outliers and remove those data points from the dataset"
      ]
    },
    {
      "cell_type": "markdown",
      "metadata": {
        "id": "gqrzYWsRQGDB",
        "colab_type": "text"
      },
      "source": [
        "5.1:In statistics, an outlier is an observation point that is distant from other observations.The Data Science project starts with collection of data and that’s when outliers first introduced to the population. Though, you will not know about the outliers at all in the collection phase. The outliers can be a result of a mistake during data collection or it can be just an indication of variance in your data\n",
        "\n"
      ]
    },
    {
      "cell_type": "markdown",
      "metadata": {
        "id": "bX6RhfjZYkaN",
        "colab_type": "text"
      },
      "source": [
        "A box plot shows the distribution of quantitative data in a way that facilitates comparisons between variables or across levels of a categorical variable. "
      ]
    },
    {
      "cell_type": "code",
      "metadata": {
        "id": "4mT-T-TUAPyN",
        "colab_type": "code",
        "colab": {
          "base_uri": "https://localhost:8080/",
          "height": 295
        },
        "outputId": "3f87e6de-4f83-48d8-a523-b90e4b1c248c"
      },
      "source": [
        "sns.boxplot(x=df['Price'])\n",
        "plt.title('Boxplot of Price')\n",
        "plt.show()"
      ],
      "execution_count": 14,
      "outputs": [
        {
          "output_type": "display_data",
          "data": {
            "image/png": "[encoded data removed]",
            "text/plain": [
              "<Figure size 432x288 with 1 Axes>"
            ]
          },
          "metadata": {
            "tags": [],
            "needs_background": "light"
          }
        }
      ]
    },
    {
      "cell_type": "code",
      "metadata": {
        "id": "N7Dx7jDcAaIG",
        "colab_type": "code",
        "colab": {
          "base_uri": "https://localhost:8080/",
          "height": 295
        },
        "outputId": "15f6b4bf-2942-4f35-accc-f1a2a737505d"
      },
      "source": [
        "sns.boxplot(x=df['HP'])\n",
        "plt.title('Boxplot of Engine HP')\n",
        "plt.show()"
      ],
      "execution_count": 15,
      "outputs": [
        {
          "output_type": "display_data",
          "data": {
            "image/png": "[encoded data removed]",
            "text/plain": [
              "<Figure size 432x288 with 1 Axes>"
            ]
          },
          "metadata": {
            "tags": [],
            "needs_background": "light"
          }
        }
      ]
    },
    {
      "cell_type": "code",
      "metadata": {
        "id": "VlzeGtN4AaZx",
        "colab_type": "code",
        "colab": {
          "base_uri": "https://localhost:8080/",
          "height": 295
        },
        "outputId": "903a1c41-b3fb-4c08-e350-043f501a5e62"
      },
      "source": [
        "sns.boxplot(x=df['Cylinders'])\n",
        "plt.title('Boxplot of Engine HP')\n",
        "plt.show()"
      ],
      "execution_count": 16,
      "outputs": [
        {
          "output_type": "display_data",
          "data": {
            "image/png": "[encoded data removed]",
            "text/plain": [
              "<Figure size 432x288 with 1 Axes>"
            ]
          },
          "metadata": {
            "tags": [],
            "needs_background": "light"
          }
        }
      ]
    },
    {
      "cell_type": "code",
      "metadata": {
        "id": "Mqksljn1A9iP",
        "colab_type": "code",
        "colab": {
          "base_uri": "https://localhost:8080/",
          "height": 170
        },
        "outputId": "9466fa57-1efc-4fd8-84b3-d1624190c772"
      },
      "source": [
        "Q1 = df.quantile(0.25)\n",
        "Q3 = df.quantile(0.75)\n",
        "IQR = Q3 - Q1\n",
        "print(IQR)"
      ],
      "execution_count": 17,
      "outputs": [
        {
          "output_type": "stream",
          "text": [
            "Year                   9.0\n",
            "HP                   130.0\n",
            "Cylinders              2.0\n",
            "Number of Doors        2.0\n",
            "MPG-H                  8.0\n",
            "MPG-C                  6.0\n",
            "Popularity          1460.0\n",
            "Price              21215.0\n",
            "dtype: float64\n"
          ],
          "name": "stdout"
        }
      ]
    },
    {
      "cell_type": "code",
      "metadata": {
        "id": "iMn7V5xOBJYv",
        "colab_type": "code",
        "colab": {
          "base_uri": "https://localhost:8080/",
          "height": 34
        },
        "outputId": "69d03bc3-39a5-4dfe-bdc9-21bd8171d247"
      },
      "source": [
        "df=df[~((df < (Q1 - 1.5 * IQR)) |(df > (Q3 + 1.5 * IQR))).any(axis=1)]\n",
        "df.shape"
      ],
      "execution_count": 18,
      "outputs": [
        {
          "output_type": "execute_result",
          "data": {
            "text/plain": [
              "(9051, 14)"
            ]
          },
          "metadata": {
            "tags": []
          },
          "execution_count": 18
        }
      ]
    },
    {
      "cell_type": "markdown",
      "metadata": {
        "id": "FFpWKA06-Op2",
        "colab_type": "text"
      },
      "source": [
        "After Removing the Outliners The BoxPlot gives output as"
      ]
    },
    {
      "cell_type": "code",
      "metadata": {
        "id": "nD9Yfr6ZBTZ8",
        "colab_type": "code",
        "colab": {
          "base_uri": "https://localhost:8080/",
          "height": 295
        },
        "outputId": "58768a04-2034-445c-f0fc-f3630772ebd5"
      },
      "source": [
        "sns.boxplot(x=df['Price'])\n",
        "plt.title('BOXPLOT representation of Price')\n",
        "plt.show()\n"
      ],
      "execution_count": 19,
      "outputs": [
        {
          "output_type": "display_data",
          "data": {
            "image/png": "[encoded data removed]",
            "text/plain": [
              "<Figure size 432x288 with 1 Axes>"
            ]
          },
          "metadata": {
            "tags": [],
            "needs_background": "light"
          }
        }
      ]
    },
    {
      "cell_type": "code",
      "metadata": {
        "id": "v-kAxTupBl0a",
        "colab_type": "code",
        "colab": {
          "base_uri": "https://localhost:8080/",
          "height": 295
        },
        "outputId": "c5e8f3d6-74ff-4d4f-afa5-43edd3b3a1a1"
      },
      "source": [
        "sns.boxplot(x=df['HP'])\n",
        "plt.title('BOXPLOT representation of Engine HP')\n",
        "plt.show()"
      ],
      "execution_count": 134,
      "outputs": [
        {
          "output_type": "display_data",
          "data": {
            "image/png": "[encoded data removed]",
            "text/plain": [
              "<Figure size 432x288 with 1 Axes>"
            ]
          },
          "metadata": {
            "tags": [],
            "needs_background": "light"
          }
        }
      ]
    },
    {
      "cell_type": "code",
      "metadata": {
        "id": "lFC_j9ykBooX",
        "colab_type": "code",
        "colab": {
          "base_uri": "https://localhost:8080/",
          "height": 295
        },
        "outputId": "91899017-c5f3-43e3-b77c-74b3f952f9d9"
      },
      "source": [
        "sns.boxplot(x=df['Cylinders'])\n",
        "plt.title('BOXPLOT representation of Engine Cylinders')\n",
        "plt.show()"
      ],
      "execution_count": 135,
      "outputs": [
        {
          "output_type": "display_data",
          "data": {
            "image/png": "[encoded data removed]",
            "text/plain": [
              "<Figure size 432x288 with 1 Axes>"
            ]
          },
          "metadata": {
            "tags": [],
            "needs_background": "light"
          }
        }
      ]
    },
    {
      "cell_type": "markdown",
      "metadata": {
        "id": "rXLJAn9wBzvw",
        "colab_type": "text"
      },
      "source": [
        "Step 6: What car brands are the most represented in the dataset and find the average price among the top car brands"
      ]
    },
    {
      "cell_type": "markdown",
      "metadata": {
        "id": "3U_D5a_6Z9vy",
        "colab_type": "text"
      },
      "source": [
        " 6.1 By the step6 we can understand which car brands are most represented in the data set"
      ]
    },
    {
      "cell_type": "code",
      "metadata": {
        "id": "vWfSYuRxMoQz",
        "colab_type": "code",
        "colab": {}
      },
      "source": [
        " #Percentage of car per brand\n",
        " x=df['Price'].value_counts()\n",
        "counts = x*100/sum(x)\n",
        "TOP_10 = counts.index[:10]\n",
        "\n"
      ],
      "execution_count": 136,
      "outputs": []
    },
    {
      "cell_type": "code",
      "metadata": {
        "id": "vKm4SXQlbmZ7",
        "colab_type": "code",
        "colab": {
          "base_uri": "https://localhost:8080/",
          "height": 568
        },
        "outputId": "00e44ae5-e423-4271-fa73-21f445f73e15"
      },
      "source": [
        "plt.figure(figsize=(15,9))\n",
        "plt.scatter(x=TOP_10, y=counts[:10])\n",
        "plt.xlabel('car_Models')\n",
        "plt.ylabel('popularity')\n",
        "plt.title('Top 10 Car brands')\n",
        "plt.show()"
      ],
      "execution_count": 137,
      "outputs": [
        {
          "output_type": "display_data",
          "data": {
            "image/png": "[encoded data removed]",
            "text/plain": [
              "<Figure size 1080x648 with 1 Axes>"
            ]
          },
          "metadata": {
            "tags": [],
            "needs_background": "light"
          }
        }
      ]
    },
    {
      "cell_type": "markdown",
      "metadata": {
        "id": "nC_3KorFOqxC",
        "colab_type": "text"
      },
      "source": [
        "6.2 The average price among the top car brands. \n",
        "         by this step we can know that the mean among the top brands"
      ]
    },
    {
      "cell_type": "code",
      "metadata": {
        "id": "djGtf2_WevMf",
        "colab_type": "code",
        "colab": {
          "base_uri": "https://localhost:8080/",
          "height": 187
        },
        "outputId": "9ac30ade-2c00-4a43-fe76-cbe38eb93a89"
      },
      "source": [
        "prices = df[['Make','Price']].loc[(df['Make'] == 'Chevrolet')|\n",
        "               (df['Make'] == 'Ford')|\n",
        "               (df['Make'] == 'Volkswagen')|\n",
        "               (df['Make'] == 'Toyota')|\n",
        "               (df['Make'] == 'Dodge')|\n",
        "               (df['Make'] == 'Nissan')|\n",
        "               (df['Make'] == 'GMC')|\n",
        "               (df['Make'] == 'Honda')|\n",
        "               (df['Make'] == 'Mazda')].groupby('Make').mean()\n",
        "print('The Average price are:',prices)"
      ],
      "execution_count": 138,
      "outputs": [
        {
          "output_type": "stream",
          "text": [
            "The Average price are:                    Price\n",
            "Make                    \n",
            "Chevrolet   27591.962049\n",
            "Dodge       25983.345372\n",
            "GMC         32866.520000\n",
            "Honda       27511.286842\n",
            "Mazda       20366.657963\n",
            "Nissan      28148.655706\n",
            "Toyota      29223.393020\n",
            "Volkswagen  28339.133244\n"
          ],
          "name": "stdout"
        }
      ]
    },
    {
      "cell_type": "markdown",
      "metadata": {
        "id": "I6MbwpR917Hz",
        "colab_type": "text"
      },
      "source": [
        "Step 7: Plot the correlation matrix and document your insights"
      ]
    },
    {
      "cell_type": "markdown",
      "metadata": {
        "id": "y0JBi2KX2Amb",
        "colab_type": "text"
      },
      "source": [
        "A correlation matrix is a tabular data representing the ‘correlations’ between pairs of variables in a given data.\n",
        "The Correlation matrix is an important data analysis metric that is computed to summarize data to understand the relationship between various variables and make decisions accordingly. This can be done by using corr() method.\n",
        "\n"
      ]
    },
    {
      "cell_type": "code",
      "metadata": {
        "id": "gY4Z6vZX3Yrm",
        "colab_type": "code",
        "colab": {
          "base_uri": "https://localhost:8080/",
          "height": 204
        },
        "outputId": "88f95b4b-cd34-4742-da57-314f9d1c4aa9"
      },
      "source": [
        "Correlation_matrix=df.corr()\n",
        "print('The Resulting Matrix obtained is:',Correlation_matrix)"
      ],
      "execution_count": 139,
      "outputs": [
        {
          "output_type": "stream",
          "text": [
            "The Resulting Matrix obtained is:                      Year        HP  Cylinders  ...     MPG-C  Popularity     Price\n",
            "Year             1.000000  0.330787  -0.103721  ...  0.329022    0.202595  0.605717\n",
            "HP               0.330787  1.000000   0.737402  ... -0.562772    0.109253  0.740359\n",
            "Cylinders       -0.103721  0.737402   1.000000  ... -0.755749    0.030282  0.379666\n",
            "Number of Doors  0.233149  0.061811   0.037269  ...  0.007899   -0.065536  0.141468\n",
            "MPG-H            0.362880 -0.467972  -0.705068  ...  0.938832    0.072339 -0.121228\n",
            "MPG-C            0.329022 -0.562772  -0.755749  ...  1.000000    0.063369 -0.192940\n",
            "Popularity       0.202595  0.109253   0.030282  ...  0.063369    1.000000  0.119584\n",
            "Price            0.605717  0.740359   0.379666  ... -0.192940    0.119584  1.000000\n",
            "\n",
            "[8 rows x 8 columns]\n"
          ],
          "name": "stdout"
        }
      ]
    },
    {
      "cell_type": "markdown",
      "metadata": {
        "id": "BavNUfm0359L",
        "colab_type": "text"
      },
      "source": [
        "7.2:  With  the help of correlation matrix generating the Heat Map. A heat map is a two-dimensional representation of information with the help of colors. Heat maps can help the user visualize simple or complex information."
      ]
    },
    {
      "cell_type": "code",
      "metadata": {
        "id": "kBxsRgna5EjD",
        "colab_type": "code",
        "colab": {
          "base_uri": "https://localhost:8080/",
          "height": 358
        },
        "outputId": "ffe057e8-297c-44cc-c8a5-2d7016ed9755"
      },
      "source": [
        "Correlation_matrix=df.corr()\n",
        "sns.heatmap(Correlation_matrix,annot = True)\n",
        "plt.title('correlation between variables',fontsize=15)\n",
        "plt.show()"
      ],
      "execution_count": 140,
      "outputs": [
        {
          "output_type": "display_data",
          "data": {
            "image/png": "[encoded data removed]",
            "text/plain": [
              "<Figure size 432x288 with 2 Axes>"
            ]
          },
          "metadata": {
            "tags": [],
            "needs_background": "light"
          }
        }
      ]
    },
    {
      "cell_type": "markdown",
      "metadata": {
        "id": "w-9WLBp0Edeg",
        "colab_type": "text"
      },
      "source": [
        "Step 8. Perform EDA and plot different graphs and document your findings (Try to see how other variables affect the price of the car) "
      ]
    },
    {
      "cell_type": "markdown",
      "metadata": {
        "id": "4iaS4EQREoqG",
        "colab_type": "text"
      },
      "source": [
        "Exploratory Data Analysis refers to the critical process of performing initial investigations on data so as to discover patterns,to spot anomalies,to test hypothesis and to check assumptions with the help of summary statistics and graphical representations"
      ]
    },
    {
      "cell_type": "markdown",
      "metadata": {
        "id": "M3WiZuibFeHb",
        "colab_type": "text"
      },
      "source": [
        "Plotting a graph between Engine Cylinders and Price"
      ]
    },
    {
      "cell_type": "code",
      "metadata": {
        "id": "N_yG1OFzFkui",
        "colab_type": "code",
        "colab": {
          "base_uri": "https://localhost:8080/",
          "height": 355
        },
        "outputId": "892f195f-5708-411f-ce79-688c4f2e6025"
      },
      "source": [
        "plt.figure(figsize=(10,5))\n",
        "plt.title(\"A Graph between Cylinders and Price\",color='red',fontsize=20)\n",
        "sns.barplot(df['Cylinders'],df['Price'])\n",
        "plt.show()"
      ],
      "execution_count": 141,
      "outputs": [
        {
          "output_type": "display_data",
          "data": {
            "image/png": "[encoded data removed]",
            "text/plain": [
              "<Figure size 720x360 with 1 Axes>"
            ]
          },
          "metadata": {
            "tags": [],
            "needs_background": "light"
          }
        }
      ]
    },
    {
      "cell_type": "markdown",
      "metadata": {
        "id": "jQUlxTkiIBwu",
        "colab_type": "text"
      },
      "source": [
        "Plotting a graph"
      ]
    },
    {
      "cell_type": "code",
      "metadata": {
        "id": "0LVZbFgYQSkp",
        "colab_type": "code",
        "colab": {
          "base_uri": "https://localhost:8080/",
          "height": 422
        },
        "outputId": "20b352b5-07e8-47ea-ae64-b9639f5301bd"
      },
      "source": [
        "df['Make'].value_counts().plot(kind='bar',figsize=(15,5))\n",
        "plt.title('Graph grouped by car Model',fontsize=15,color='Blue')\n",
        "plt.xlabel('car models',fontsize=15,color='Blue')\n",
        "plt.ylabel('value_counts_by_model_name',fontsize=15,color='Blue')\n",
        "plt.show()\n"
      ],
      "execution_count": 142,
      "outputs": [
        {
          "output_type": "display_data",
          "data": {
            "image/png": "[encoded data removed]",
            "text/plain": [
              "<Figure size 1080x360 with 1 Axes>"
            ]
          },
          "metadata": {
            "tags": [],
            "needs_background": "light"
          }
        }
      ]
    },
    {
      "cell_type": "markdown",
      "metadata": {
        "id": "TYLqBSybQtNO",
        "colab_type": "text"
      },
      "source": [
        "Statistical summary of Price column"
      ]
    },
    {
      "cell_type": "code",
      "metadata": {
        "id": "wNvWtgUeQwYO",
        "colab_type": "code",
        "colab": {
          "base_uri": "https://localhost:8080/",
          "height": 170
        },
        "outputId": "34cdde55-7152-4463-86f5-b8a081d590a6"
      },
      "source": [
        "df['Price'].describe()"
      ],
      "execution_count": 143,
      "outputs": [
        {
          "output_type": "execute_result",
          "data": {
            "text/plain": [
              "count     9051.000000\n",
              "mean     30558.914153\n",
              "std      14966.923779\n",
              "min       2000.000000\n",
              "25%      21795.000000\n",
              "50%      29600.000000\n",
              "75%      39412.500000\n",
              "max      74000.000000\n",
              "Name: Price, dtype: float64"
            ]
          },
          "metadata": {
            "tags": []
          },
          "execution_count": 143
        }
      ]
    },
    {
      "cell_type": "markdown",
      "metadata": {
        "id": "NjC4zADwllfL",
        "colab_type": "text"
      },
      "source": [
        "Histogram Graph"
      ]
    },
    {
      "cell_type": "code",
      "metadata": {
        "id": "Dmb5VO_vQ9iN",
        "colab_type": "code",
        "colab": {
          "base_uri": "https://localhost:8080/",
          "height": 283
        },
        "outputId": "9b9218bb-8045-4e3c-fbcc-3a31377dde76"
      },
      "source": [
        "plt.hist(df['Price'],bins=20,)\n",
        "plt.title('shows the satistical summary of price',fontsize=15)\n",
        "plt.show()"
      ],
      "execution_count": 144,
      "outputs": [
        {
          "output_type": "display_data",
          "data": {
            "image/png": "[encoded data removed]",
            "text/plain": [
              "<Figure size 432x288 with 1 Axes>"
            ]
          },
          "metadata": {
            "tags": [],
            "needs_background": "light"
          }
        }
      ]
    },
    {
      "cell_type": "markdown",
      "metadata": {
        "id": "P0if7jsfR2-k",
        "colab_type": "text"
      },
      "source": [
        "Step 9:Split the dataset into 80 and 20 ratio and build a machine learning model with Price as the target variable \n"
      ]
    },
    {
      "cell_type": "markdown",
      "metadata": {
        "id": "FPofKO9uSK7U",
        "colab_type": "text"
      },
      "source": [
        "Basic Model: Linear Regression\n"
      ]
    },
    {
      "cell_type": "code",
      "metadata": {
        "id": "ju_ciW8tTU17",
        "colab_type": "code",
        "colab": {}
      },
      "source": [
        "#inputing the X values \n",
        "X=df[['MPG-H','MPG-C','Popularity','HP']].values\n",
        "#Y is considered as target value \n",
        "Y=df['Price'].values\n",
        "Y=Y.reshape(-1,1) #since the data has single feature  reshaped\n"
      ],
      "execution_count": 21,
      "outputs": []
    },
    {
      "cell_type": "markdown",
      "metadata": {
        "id": "XPZzevD7Adl1",
        "colab_type": "text"
      },
      "source": [
        "StandardScaler standardizes a feature by subtracting the mean and then scaling to unit variance"
      ]
    },
    {
      "cell_type": "code",
      "metadata": {
        "id": "5W8RSpOXxxhD",
        "colab_type": "code",
        "colab": {}
      },
      "source": [
        "from sklearn.preprocessing import StandardScaler \n",
        "stdX=StandardScaler()\n",
        "stdY=StandardScaler()\n",
        "X=stdX.fit_transform(X)\n",
        "Y=stdY.fit_transform(Y)\n"
      ],
      "execution_count": 22,
      "outputs": []
    },
    {
      "cell_type": "code",
      "metadata": {
        "id": "65lmqvxhy8F4",
        "colab_type": "code",
        "colab": {}
      },
      "source": [
        "from sklearn.model_selection import train_test_split #to split the data we import train_test_split\n",
        "X_train, X_test, Y_train, Y_test = train_test_split( X, Y, test_size=0.2, random_state=0)#splitting the data 80 for train 20 to test \n",
        "\n"
      ],
      "execution_count": 23,
      "outputs": []
    },
    {
      "cell_type": "code",
      "metadata": {
        "id": "-Pkvc2Rmz34o",
        "colab_type": "code",
        "colab": {
          "base_uri": "https://localhost:8080/",
          "height": 34
        },
        "outputId": "517b3b99-ae48-4c23-9a4b-1d96c3c4187e"
      },
      "source": [
        "from sklearn.linear_model import LinearRegression # to implement Linear Regression \n",
        "from sklearn import metrics #to check the performance of data i.e MAE,MSE,RSME,R_squared\n",
        "lm = LinearRegression()\n",
        "lm.fit(X_train,Y_train)#training the data using linear regression algorithm\n",
        "\n"
      ],
      "execution_count": 24,
      "outputs": [
        {
          "output_type": "execute_result",
          "data": {
            "text/plain": [
              "LinearRegression(copy_X=True, fit_intercept=True, n_jobs=None, normalize=False)"
            ]
          },
          "metadata": {
            "tags": []
          },
          "execution_count": 24
        }
      ]
    },
    {
      "cell_type": "code",
      "metadata": {
        "id": "Q3_ULe6w0LRQ",
        "colab_type": "code",
        "colab": {
          "base_uri": "https://localhost:8080/",
          "height": 281
        },
        "outputId": "806dd2a5-97de-438f-cf8a-3712edf5b83d"
      },
      "source": [
        "y_pred = lm.predict(X_test) #we are prediting y value by using X_test data\n",
        "plt.scatter(Y_test,y_pred)\n",
        "plt.title('scatter plot for Linear Regressor')\n",
        "plt.show()"
      ],
      "execution_count": 25,
      "outputs": [
        {
          "output_type": "display_data",
          "data": {
            "image/png": "[encoded data removed]",
            "text/plain": [
              "<Figure size 432x288 with 1 Axes>"
            ]
          },
          "metadata": {
            "tags": [],
            "needs_background": "light"
          }
        }
      ]
    },
    {
      "cell_type": "code",
      "metadata": {
        "id": "jEtTK0aHEoDQ",
        "colab_type": "code",
        "colab": {
          "base_uri": "https://localhost:8080/",
          "height": 281
        },
        "outputId": "d07c821c-8f54-480d-c67d-fe927cc9d90c"
      },
      "source": [
        "sns.distplot((Y_test-y_pred),bins=50)\n",
        "plt.title('Distplot of Linear regression')\n",
        "plt.show()"
      ],
      "execution_count": 26,
      "outputs": [
        {
          "output_type": "display_data",
          "data": {
            "image/png": "[encoded data removed]",
            "text/plain": [
              "<Figure size 432x288 with 1 Axes>"
            ]
          },
          "metadata": {
            "tags": [],
            "needs_background": "light"
          }
        }
      ]
    },
    {
      "cell_type": "markdown",
      "metadata": {
        "id": "vdUfpovnjROR",
        "colab_type": "text"
      },
      "source": [
        "Perfomance Metrics classification:\n",
        "\n",
        "Mean Absolute Error (MAE)\n",
        "It is the simplest error metric used in regression problems. It is basically the sum of average of the absolute difference between the predicted and actual values.\n",
        "\n",
        "Mean Square Error (MSE)\n",
        "MSE is like the MAE, but the only difference is that the it squares the difference of actual and predicted output values before summing them all instead of using the absolute value.\n",
        "\n",
        "R Squared (R2)\n",
        "R Squared metric is generally used for explanatory purpose and provides an indication of the goodness or fit of a set of predicted output values to the actual output values. "
      ]
    },
    {
      "cell_type": "code",
      "metadata": {
        "id": "iPBfeBP8GFmL",
        "colab_type": "code",
        "colab": {
          "base_uri": "https://localhost:8080/",
          "height": 85
        },
        "outputId": "9b46e9eb-892c-467c-9c69-5c4eaaf10a17"
      },
      "source": [
        "print('Mean absloute error(MAE):',metrics.mean_absolute_error(Y_test,y_pred))\n",
        "print('Mean Squared error(MSE):',metrics.mean_squared_error(Y_test,y_pred))\n",
        "print('Root Mean Squared error(RMSE):',math.sqrt(metrics.mean_squared_error(Y_test,y_pred)))\n",
        "print('R Squared:',metrics.r2_score(Y_test,y_pred))"
      ],
      "execution_count": 88,
      "outputs": [
        {
          "output_type": "stream",
          "text": [
            "Mean absloute error(MAE): 0.45788875407557134\n",
            "Mean Squared error(MSE): 0.37491819360176526\n",
            "Root Mean Squared error(RMSE): 0.6123056374081209\n",
            "R Squared: 0.6299909609493062\n"
          ],
          "name": "stdout"
        }
      ]
    },
    {
      "cell_type": "markdown",
      "metadata": {
        "id": "jiWDbyyNMwOg",
        "colab_type": "text"
      },
      "source": [
        "Step 10.Try different algorithms and check their performance over metrics like R square, RMSE, MAE etc and document your findings "
      ]
    },
    {
      "cell_type": "markdown",
      "metadata": {
        "id": "zc3PCR-zM2IR",
        "colab_type": "text"
      },
      "source": [
        "It basically defined on probability estimates and measures the performance of a classification model where the input is a probability value between 0 and 1. It can be understood more clearly by differentiating it with accuracy."
      ]
    },
    {
      "cell_type": "markdown",
      "metadata": {
        "id": "sosOj_zXfb5U",
        "colab_type": "text"
      },
      "source": [
        "10.1  Epsilon-Support Vector Regression\n",
        "\n",
        "kernel{‘linear’, ‘poly’, ‘rbf’, ‘sigmoid’, ‘precomputed’}, default=’rbf’\n",
        "Specifies the kernel type to be used in the algorithm. It must be one of ‘linear’, ‘poly’, ‘rbf’, ‘sigmoid’, ‘precomputed’ or a callable. If none is given, ‘rbf’ will be used. If a callable is given it is used to precompute the kernel matrix."
      ]
    },
    {
      "cell_type": "code",
      "metadata": {
        "id": "dIP0qrIBOGrC",
        "colab_type": "code",
        "colab": {
          "base_uri": "https://localhost:8080/",
          "height": 105
        },
        "outputId": "46d22ed8-4f6d-4140-a25d-4cf54cb08129"
      },
      "source": [
        "from sklearn.svm import SVR\n",
        "from sklearn import metrics\n",
        "sr=SVR(kernel='rbf')\n",
        "sr.fit(X_train,Y_train)"
      ],
      "execution_count": 91,
      "outputs": [
        {
          "output_type": "stream",
          "text": [
            "/usr/local/lib/python3.6/dist-packages/sklearn/utils/validation.py:760: DataConversionWarning: A column-vector y was passed when a 1d array was expected. Please change the shape of y to (n_samples, ), for example using ravel().\n",
            "  y = column_or_1d(y, warn=True)\n"
          ],
          "name": "stderr"
        },
        {
          "output_type": "execute_result",
          "data": {
            "text/plain": [
              "SVR(C=1.0, cache_size=200, coef0=0.0, degree=3, epsilon=0.1, gamma='scale',\n",
              "    kernel='rbf', max_iter=-1, shrinking=True, tol=0.001, verbose=False)"
            ]
          },
          "metadata": {
            "tags": []
          },
          "execution_count": 91
        }
      ]
    },
    {
      "cell_type": "code",
      "metadata": {
        "id": "lhcq3js_VbeQ",
        "colab_type": "code",
        "colab": {
          "base_uri": "https://localhost:8080/",
          "height": 281
        },
        "outputId": "92d9a5c0-1ff1-4cc3-9d9f-cbcc779613c0"
      },
      "source": [
        "y_pred=sr.predict(X_test)\n",
        "plt.scatter(Y_test,y_pred)\n",
        "plt.title('scatter plot for SVR')\n",
        "plt.show()"
      ],
      "execution_count": 105,
      "outputs": [
        {
          "output_type": "display_data",
          "data": {
            "image/png": "[encoded data removed]",
            "text/plain": [
              "<Figure size 432x288 with 1 Axes>"
            ]
          },
          "metadata": {
            "tags": [],
            "needs_background": "light"
          }
        }
      ]
    },
    {
      "cell_type": "code",
      "metadata": {
        "id": "WWqB2S8hVzNh",
        "colab_type": "code",
        "colab": {
          "base_uri": "https://localhost:8080/",
          "height": 281
        },
        "outputId": "bd105215-194c-4544-ecb1-94580e2fbe5c"
      },
      "source": [
        "sns.distplot((Y_test-y_pred),bins=50)\n",
        "plt.title('Distplot of Suport vector regression')\n",
        "plt.show()"
      ],
      "execution_count": 95,
      "outputs": [
        {
          "output_type": "display_data",
          "data": {
            "image/png": "[encoded data removed]",
            "text/plain": [
              "<Figure size 432x288 with 1 Axes>"
            ]
          },
          "metadata": {
            "tags": [],
            "needs_background": "light"
          }
        }
      ]
    },
    {
      "cell_type": "code",
      "metadata": {
        "id": "wj5eN8dMWdj7",
        "colab_type": "code",
        "colab": {
          "base_uri": "https://localhost:8080/",
          "height": 85
        },
        "outputId": "067358b7-3d70-48aa-a4d6-6b16a5266fea"
      },
      "source": [
        "print('Mean absloute error(MAE):',metrics.mean_absolute_error(Y_test,y_pred))\n",
        "print('Mean Squared error(MSE):',metrics.mean_squared_error(Y_test,y_pred))\n",
        "print('Root Mean Squared error(RMSE):',math.sqrt(metrics.mean_squared_error(Y_test,y_pred)))\n",
        "print('R Squared:',metrics.r2_score(Y_test,y_pred))\n"
      ],
      "execution_count": 96,
      "outputs": [
        {
          "output_type": "stream",
          "text": [
            "Mean absloute error(MAE): 0.39052892387320354\n",
            "Mean Squared error(MSE): 0.31533427570538514\n",
            "Root Mean Squared error(RMSE): 0.5615463255203307\n",
            "R Squared: 0.6887946908828093\n"
          ],
          "name": "stdout"
        }
      ]
    },
    {
      "cell_type": "markdown",
      "metadata": {
        "id": "bQ2aETvjmRgn",
        "colab_type": "text"
      },
      "source": [
        "10.2 RandomForestRegressor\n",
        "\n",
        "A random forest is a meta estimator that fits a number of classifying decision trees on various sub-samples of the dataset and uses averaging to improve the predictive accuracy and control over-fitting."
      ]
    },
    {
      "cell_type": "code",
      "metadata": {
        "id": "1KCstmwICIir",
        "colab_type": "code",
        "colab": {
          "base_uri": "https://localhost:8080/",
          "height": 71
        },
        "outputId": "0c1d744b-5cb4-4ff4-a77f-96dfe361d8fe"
      },
      "source": [
        "from sklearn.ensemble import RandomForestRegressor\n",
        "from sklearn import metrics\n",
        "classifier=RandomForestRegressor(n_estimators=150)\n",
        "classifier.fit(X_train,Y_train)\n",
        "y_pred=classifier.predict(X_test)"
      ],
      "execution_count": 102,
      "outputs": [
        {
          "output_type": "stream",
          "text": [
            "/usr/local/lib/python3.6/dist-packages/ipykernel_launcher.py:4: DataConversionWarning: A column-vector y was passed when a 1d array was expected. Please change the shape of y to (n_samples,), for example using ravel().\n",
            "  after removing the cwd from sys.path.\n"
          ],
          "name": "stderr"
        }
      ]
    },
    {
      "cell_type": "code",
      "metadata": {
        "id": "klw6ToslHLV0",
        "colab_type": "code",
        "colab": {
          "base_uri": "https://localhost:8080/",
          "height": 281
        },
        "outputId": "3c65a1a0-278d-416d-f6bd-9eaf34f73a3b"
      },
      "source": [
        "plt.scatter(Y_test,y_pred)\n",
        "plt.title('scatter plot of RandomForestRegressor ')\n",
        "plt.show()"
      ],
      "execution_count": 99,
      "outputs": [
        {
          "output_type": "display_data",
          "data": {
            "image/png": "[encoded data removed]",
            "text/plain": [
              "<Figure size 432x288 with 1 Axes>"
            ]
          },
          "metadata": {
            "tags": [],
            "needs_background": "light"
          }
        }
      ]
    },
    {
      "cell_type": "code",
      "metadata": {
        "id": "Pgn-o5PJHgH7",
        "colab_type": "code",
        "colab": {
          "base_uri": "https://localhost:8080/",
          "height": 281
        },
        "outputId": "fdcf3321-eba5-485d-c543-6f14f25e5ae9"
      },
      "source": [
        "sns.distplot((Y_test-y_pred),bins=60)\n",
        "plt.title('Distplot of RandomForestRegressor')\n",
        "plt.show()"
      ],
      "execution_count": 101,
      "outputs": [
        {
          "output_type": "display_data",
          "data": {
            "image/png": "[encoded data removed]",
            "text/plain": [
              "<Figure size 432x288 with 1 Axes>"
            ]
          },
          "metadata": {
            "tags": [],
            "needs_background": "light"
          }
        }
      ]
    },
    {
      "cell_type": "code",
      "metadata": {
        "id": "AVX-U4IQHoQi",
        "colab_type": "code",
        "colab": {
          "base_uri": "https://localhost:8080/",
          "height": 85
        },
        "outputId": "6f479818-b717-4747-c277-246ee3cb4ce8"
      },
      "source": [
        "print('Mean absloute error(MAE):',metrics.mean_absolute_error(Y_test,y_pred))\n",
        "print('Mean Squared error(MSE):',metrics.mean_squared_error(Y_test,y_pred))\n",
        "print('Root Mean Squared error(RMSE):',math.sqrt(metrics.mean_squared_error(Y_test,y_pred)))\n",
        "print('R Squared:',metrics.r2_score(Y_test,y_pred))\n"
      ],
      "execution_count": 103,
      "outputs": [
        {
          "output_type": "stream",
          "text": [
            "Mean absloute error(MAE): 0.19615145279084975\n",
            "Mean Squared error(MSE): 0.08784773356715582\n",
            "Root Mean Squared error(RMSE): 0.2963911833492282\n",
            "R Squared: 0.9133025389680325\n"
          ],
          "name": "stdout"
        }
      ]
    }
  ]
}